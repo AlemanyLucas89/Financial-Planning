{
 "cells": [
  {
   "cell_type": "markdown",
   "metadata": {},
   "source": [
    "# Unit 5 - Financial Planning"
   ]
  },
  {
   "cell_type": "code",
   "execution_count": 112,
   "metadata": {},
   "outputs": [],
   "source": [
    "# Initial imports\r\n",
    "import os\r\n",
    "import requests\r\n",
    "import pandas as pd\r\n",
    "from dotenv import load_dotenv\r\n",
    "import alpaca_trade_api as tradeapi\r\n",
    "from MCForecastTools import MCSimulation\r\n",
    "import json\r\n",
    "\r\n",
    "%matplotlib inline"
   ]
  },
  {
   "cell_type": "code",
   "execution_count": 113,
   "metadata": {},
   "outputs": [
    {
     "data": {
      "text/plain": "True"
     },
     "execution_count": 113,
     "metadata": {},
     "output_type": "execute_result"
    }
   ],
   "source": [
    "# Load .env enviroment variables\n",
    "load_dotenv()"
   ]
  },
  {
   "cell_type": "markdown",
   "metadata": {},
   "source": [
    "## Part 1 - Personal Finance Planner"
   ]
  },
  {
   "cell_type": "markdown",
   "metadata": {},
   "source": [
    "### Collect Crypto Prices Using the `requests` Library"
   ]
  },
  {
   "cell_type": "code",
   "execution_count": 114,
   "metadata": {},
   "outputs": [],
   "source": [
    "# Set current amount of crypto assets\r\n",
    "my_btc = 1.2\r\n",
    "my_eth = 5.3"
   ]
  },
  {
   "cell_type": "code",
   "execution_count": 115,
   "metadata": {},
   "outputs": [],
   "source": [
    "# Crypto API URLs\n",
    "btc_url = \"https://api.alternative.me/v2/ticker/Bitcoin/?convert=CAD\"\n",
    "eth_url = \"https://api.alternative.me/v2/ticker/Ethereum/?convert=CAD\""
   ]
  },
  {
   "cell_type": "code",
   "execution_count": 116,
   "metadata": {},
   "outputs": [
    {
     "name": "stdout",
     "output_type": "stream",
     "text": [
      "{\n",
      "    \"data\": {\n",
      "        \"1\": {\n",
      "            \"id\": 1,\n",
      "            \"name\": \"Bitcoin\",\n",
      "            \"symbol\": \"BTC\",\n",
      "            \"website_slug\": \"bitcoin\",\n",
      "            \"rank\": 1,\n",
      "            \"circulating_supply\": 18711737,\n",
      "            \"total_supply\": 18711737,\n",
      "            \"max_supply\": 21000000,\n",
      "            \"quotes\": {\n",
      "                \"USD\": {\n",
      "                    \"price\": 45727.0,\n",
      "                    \"volume_24h\": 59586695412,\n",
      "                    \"market_cap\": 860216343649,\n",
      "                    \"percentage_change_1h\": -3.03683696077525,\n",
      "                    \"percentage_change_24h\": -4.47917656314452,\n",
      "                    \"percentage_change_7d\": -22.1965796384967,\n",
      "                    \"percent_change_1h\": -3.03683696077525,\n",
      "                    \"percent_change_24h\": -4.47917656314452,\n",
      "                    \"percent_change_7d\": -22.1965796384967\n",
      "                },\n",
      "                \"CAD\": {\n",
      "                    \"price\": 55430.2694,\n",
      "                    \"volume_24h\": 72230992178.4264,\n",
      "                    \"market_cap\": 1042754251771.32,\n",
      "                    \"percent_change_1h\": -3.03683696077525,\n",
      "                    \"percent_change_24h\": -4.47917656314452,\n",
      "                    \"percent_change_7d\": -22.1965796384967\n",
      "                }\n",
      "            },\n",
      "            \"last_updated\": 1621192192\n",
      "        }\n",
      "    },\n",
      "    \"metadata\": {\n",
      "        \"timestamp\": 1621192192,\n",
      "        \"num_cryptocurrencies\": 1301,\n",
      "        \"error\": null\n",
      "    }\n",
      "}\n"
     ]
    }
   ],
   "source": [
    "# Fetch current BTC price\r\n",
    "my_btc_value = requests.get(btc_url).json()\r\n",
    "print(json.dumps(my_btc_value, indent=4))\r\n"
   ]
  },
  {
   "cell_type": "code",
   "execution_count": 117,
   "metadata": {},
   "outputs": [
    {
     "data": {
      "text/plain": "45727.0"
     },
     "execution_count": 117,
     "metadata": {},
     "output_type": "execute_result"
    }
   ],
   "source": [
    "btc_value = my_btc_value['data']['1']['quotes']['USD']['price']\r\n",
    "btc_value"
   ]
  },
  {
   "cell_type": "code",
   "execution_count": 118,
   "metadata": {},
   "outputs": [
    {
     "name": "stdout",
     "output_type": "stream",
     "text": [
      "{\n",
      "    \"data\": {\n",
      "        \"1027\": {\n",
      "            \"id\": 1027,\n",
      "            \"name\": \"Ethereum\",\n",
      "            \"symbol\": \"ETH\",\n",
      "            \"website_slug\": \"ethereum\",\n",
      "            \"rank\": 2,\n",
      "            \"circulating_supply\": 115900898,\n",
      "            \"total_supply\": 115900898,\n",
      "            \"max_supply\": 0,\n",
      "            \"quotes\": {\n",
      "                \"USD\": {\n",
      "                    \"price\": 3496.76,\n",
      "                    \"volume_24h\": 57850650771,\n",
      "                    \"market_cap\": 409284741352,\n",
      "                    \"percentage_change_1h\": -3.51895433078916,\n",
      "                    \"percentage_change_24h\": -6.95954899061947,\n",
      "                    \"percentage_change_7d\": -10.6315467167899,\n",
      "                    \"percent_change_1h\": -3.51895433078916,\n",
      "                    \"percent_change_24h\": -6.95954899061947,\n",
      "                    \"percent_change_7d\": -10.6315467167899\n",
      "                },\n",
      "                \"CAD\": {\n",
      "                    \"price\": 4238.772472,\n",
      "                    \"volume_24h\": 70126558864.6062,\n",
      "                    \"market_cap\": 496134963466.894,\n",
      "                    \"percent_change_1h\": -3.51895433078916,\n",
      "                    \"percent_change_24h\": -6.95954899061947,\n",
      "                    \"percent_change_7d\": -10.6315467167899\n",
      "                }\n",
      "            },\n",
      "            \"last_updated\": 1621192101\n",
      "        }\n",
      "    },\n",
      "    \"metadata\": {\n",
      "        \"timestamp\": 1621192101,\n",
      "        \"num_cryptocurrencies\": 1301,\n",
      "        \"error\": null\n",
      "    }\n",
      "}\n"
     ]
    }
   ],
   "source": [
    "# Fetch current ETH price\r\n",
    "my_eth_value = requests.get(eth_url).json()\r\n",
    "print(json.dumps(my_eth_value, indent=4))"
   ]
  },
  {
   "cell_type": "code",
   "execution_count": 119,
   "metadata": {},
   "outputs": [
    {
     "data": {
      "text/plain": "3496.76"
     },
     "execution_count": 119,
     "metadata": {},
     "output_type": "execute_result"
    }
   ],
   "source": [
    "eth_value = my_eth_value['data']['1027']['quotes']['USD']['price']\r\n",
    "eth_value"
   ]
  },
  {
   "cell_type": "code",
   "execution_count": 120,
   "metadata": {},
   "outputs": [],
   "source": [
    "# Compute current value of my crpto\r\n",
    "CV_BTC = btc_value * my_btc\r\n",
    "CV_ETH = eth_value * my_eth"
   ]
  },
  {
   "cell_type": "code",
   "execution_count": 121,
   "metadata": {},
   "outputs": [
    {
     "name": "stdout",
     "output_type": "stream",
     "text": [
      "The current value of your 1.2 BTC is $54872.40\n",
      "The current value of your 5.3 ETH is $18532.83\n"
     ]
    }
   ],
   "source": [
    "# Print current crypto wallet balance\r\n",
    "print(f\"The current value of your {my_btc} BTC is ${CV_BTC:0.2f}\")\r\n",
    "print(f\"The current value of your {my_eth} ETH is ${CV_ETH:0.2f}\")"
   ]
  },
  {
   "cell_type": "markdown",
   "metadata": {},
   "source": [
    "### Collect Investments Data Using Alpaca: `SPY` (stocks) and `AGG` (bonds)"
   ]
  },
  {
   "cell_type": "code",
   "execution_count": 122,
   "metadata": {},
   "outputs": [],
   "source": [
    "# Set current amount of shares\n",
    "my_agg = 200\n",
    "my_spy = 50"
   ]
  },
  {
   "cell_type": "code",
   "execution_count": 123,
   "metadata": {},
   "outputs": [],
   "source": [
    "# Set Alpaca API key and secret\r\n",
    "alpaca_api_key = os.getenv(\"ALPACA_API_KEY\")\r\n",
    "\r\n",
    "alpaca_secret_key = os.getenv(\"ALPACA_SECRET_KEY\")"
   ]
  },
  {
   "cell_type": "code",
   "execution_count": 124,
   "metadata": {},
   "outputs": [
    {
     "name": "stdout",
     "output_type": "stream",
     "text": [
      "Alpaca Key type: <class 'str'>\n",
      "Alpaca Secret Key type: <class 'str'>\n"
     ]
    }
   ],
   "source": [
    "print(f\"Alpaca Key type: {type(alpaca_api_key)}\")\r\n",
    "print(f\"Alpaca Secret Key type: {type(alpaca_secret_key)}\")"
   ]
  },
  {
   "cell_type": "code",
   "execution_count": 125,
   "metadata": {},
   "outputs": [],
   "source": [
    "# Create the Alpaca API object\r\n",
    "\r\n",
    "api = tradeapi.REST(alpaca_api_key, alpaca_secret_key, api_version='v2')"
   ]
  },
  {
   "cell_type": "code",
   "execution_count": 126,
   "metadata": {},
   "outputs": [
    {
     "data": {
      "text/plain": "'2021-05-13T00:00:00-04:00'"
     },
     "execution_count": 126,
     "metadata": {},
     "output_type": "execute_result"
    }
   ],
   "source": [
    "# Format current date as ISO format\r\n",
    "\r\n",
    "current_date = pd.Timestamp(\"2021-05-13\", tz=\"America/New_York\").isoformat()\r\n",
    "current_date"
   ]
  },
  {
   "cell_type": "code",
   "execution_count": 127,
   "metadata": {},
   "outputs": [],
   "source": [
    "# Set the tickers\r\n",
    "\r\n",
    "tickers = [\"AGG\", \"SPY\"]"
   ]
  },
  {
   "cell_type": "code",
   "execution_count": 128,
   "metadata": {},
   "outputs": [],
   "source": [
    "# Set timeframe to '1D' for Alpaca API\r\n",
    "\r\n",
    "timeframe = \"1D\""
   ]
  },
  {
   "cell_type": "code",
   "execution_count": 129,
   "metadata": {},
   "outputs": [
    {
     "data": {
      "text/html": "<div>\n<style scoped>\n    .dataframe tbody tr th:only-of-type {\n        vertical-align: middle;\n    }\n\n    .dataframe tbody tr th {\n        vertical-align: top;\n    }\n\n    .dataframe thead tr th {\n        text-align: left;\n    }\n\n    .dataframe thead tr:last-of-type th {\n        text-align: right;\n    }\n</style>\n<table border=\"1\" class=\"dataframe\">\n  <thead>\n    <tr>\n      <th></th>\n      <th colspan=\"5\" halign=\"left\">AGG</th>\n      <th colspan=\"5\" halign=\"left\">SPY</th>\n    </tr>\n    <tr>\n      <th></th>\n      <th>open</th>\n      <th>high</th>\n      <th>low</th>\n      <th>close</th>\n      <th>volume</th>\n      <th>open</th>\n      <th>high</th>\n      <th>low</th>\n      <th>close</th>\n      <th>volume</th>\n    </tr>\n    <tr>\n      <th>time</th>\n      <th></th>\n      <th></th>\n      <th></th>\n      <th></th>\n      <th></th>\n      <th></th>\n      <th></th>\n      <th></th>\n      <th></th>\n      <th></th>\n    </tr>\n  </thead>\n  <tbody>\n    <tr>\n      <th>2021-05-13 00:00:00-04:00</th>\n      <td>113.9</td>\n      <td>114.06</td>\n      <td>113.78</td>\n      <td>114.015</td>\n      <td>5446892</td>\n      <td>407.07</td>\n      <td>412.35</td>\n      <td>407.02</td>\n      <td>410.26</td>\n      <td>96524121</td>\n    </tr>\n  </tbody>\n</table>\n</div>",
      "text/plain": "                             AGG                                       SPY  \\\n                            open    high     low    close   volume    open   \ntime                                                                         \n2021-05-13 00:00:00-04:00  113.9  114.06  113.78  114.015  5446892  407.07   \n\n                                                             \n                             high     low   close    volume  \ntime                                                         \n2021-05-13 00:00:00-04:00  412.35  407.02  410.26  96524121  "
     },
     "execution_count": 129,
     "metadata": {},
     "output_type": "execute_result"
    }
   ],
   "source": [
    "# Get current closing prices for SPY and AGG\r\n",
    "\r\n",
    "# (use a limit=1000 parameter to call the most recent 1000 days of data\r\n",
    "\r\n",
    "# Preview DataFrame\r\n",
    "\r\n",
    "Portfolio_df = api.get_barset(\r\n",
    "    tickers,\r\n",
    "    timeframe,\r\n",
    "    limit= 1000,\r\n",
    "    start= current_date,\r\n",
    "    end = current_date).df\r\n",
    "\r\n",
    "Portfolio_df\r\n",
    "\r\n"
   ]
  },
  {
   "cell_type": "code",
   "execution_count": 130,
   "metadata": {},
   "outputs": [],
   "source": [
    "# Pick AGG and SPY close prices\r\n",
    "\r\n",
    "agg_close_price = float(Portfolio_df['AGG']['close'])\r\n",
    "spy_close_price = float(Portfolio_df['SPY']['close'])"
   ]
  },
  {
   "cell_type": "code",
   "execution_count": 131,
   "metadata": {},
   "outputs": [
    {
     "name": "stdout",
     "output_type": "stream",
     "text": [
      "Current AGG closing price: $114.015\n",
      "Current SPY closing price: $410.26\n"
     ]
    }
   ],
   "source": [
    "# Print AGG and SPY close prices\r\n",
    "\r\n",
    "print(f\"Current AGG closing price: ${agg_close_price}\")\r\n",
    "print(f\"Current SPY closing price: ${spy_close_price}\")"
   ]
  },
  {
   "cell_type": "code",
   "execution_count": 132,
   "metadata": {},
   "outputs": [
    {
     "name": "stdout",
     "output_type": "stream",
     "text": [
      "The current value of your 50 SPY shares is $20513.00\n",
      "The current value of your 200 AGG shares is $22803.00\n"
     ]
    }
   ],
   "source": [
    "# Compute the current value of shares\r\n",
    "\r\n",
    "my_agg_value = my_agg * agg_close_price\r\n",
    "my_spy_value = my_spy * spy_close_price\r\n",
    "\r\n",
    "# Print current value of shares\r\n",
    "print(f\"The current value of your {my_spy} SPY shares is ${my_spy_value:0.2f}\")\r\n",
    "print(f\"The current value of your {my_agg} AGG shares is ${my_agg_value:0.2f}\")"
   ]
  },
  {
   "cell_type": "markdown",
   "metadata": {},
   "source": [
    "### Savings Health Analysis"
   ]
  },
  {
   "cell_type": "code",
   "execution_count": 133,
   "metadata": {},
   "outputs": [],
   "source": [
    "# Set monthly household income\r\n",
    "\r\n",
    "monthly_income = 12000"
   ]
  },
  {
   "cell_type": "code",
   "execution_count": 134,
   "metadata": {},
   "outputs": [],
   "source": [
    "# Consolidate financial assets data\r\n",
    "\r\n",
    "total_crypto = CV_ETH + CV_BTC\r\n",
    "total_stocks = (my_agg_value) + (my_spy_value)\r\n",
    "\r\n"
   ]
  },
  {
   "cell_type": "code",
   "execution_count": 135,
   "metadata": {},
   "outputs": [
    {
     "data": {
      "text/html": "<div>\n<style scoped>\n    .dataframe tbody tr th:only-of-type {\n        vertical-align: middle;\n    }\n\n    .dataframe tbody tr th {\n        vertical-align: top;\n    }\n\n    .dataframe thead th {\n        text-align: right;\n    }\n</style>\n<table border=\"1\" class=\"dataframe\">\n  <thead>\n    <tr style=\"text-align: right;\">\n      <th></th>\n      <th>amount</th>\n    </tr>\n  </thead>\n  <tbody>\n    <tr>\n      <th>Crypto</th>\n      <td>73405.228</td>\n    </tr>\n    <tr>\n      <th>Stocks</th>\n      <td>43316.000</td>\n    </tr>\n  </tbody>\n</table>\n</div>",
      "text/plain": "           amount\nCrypto  73405.228\nStocks  43316.000"
     },
     "execution_count": 135,
     "metadata": {},
     "output_type": "execute_result"
    }
   ],
   "source": [
    "# Create savings DataFrame\r\n",
    "data = {'amount':[total_crypto, total_stocks]}\r\n",
    "\r\n",
    "rows = ['Crypto', 'Stocks']\r\n",
    "\r\n",
    "df_savings = pd.DataFrame(data, index=rows)\r\n",
    "df_savings\r\n"
   ]
  },
  {
   "cell_type": "code",
   "execution_count": 136,
   "metadata": {},
   "outputs": [
    {
     "data": {
      "text/plain": "<AxesSubplot:title={'center':'Savings Compostition'}, ylabel='amount'>"
     },
     "execution_count": 136,
     "metadata": {},
     "output_type": "execute_result"
    },
    {
     "data": {
      "image/png": "[encoded data removed]",
      "text/plain": "<Figure size 432x288 with 1 Axes>"
     },
     "metadata": {},
     "output_type": "display_data"
    }
   ],
   "source": [
    "# Plot savings pie chart\r\n",
    "\r\n",
    "df_savings.plot.pie(y=\"amount\", title = \"Savings Compostition\")                              "
   ]
  },
  {
   "cell_type": "code",
   "execution_count": 137,
   "metadata": {},
   "outputs": [
    {
     "data": {
      "text/plain": "36000"
     },
     "execution_count": 137,
     "metadata": {},
     "output_type": "execute_result"
    }
   ],
   "source": [
    "# Set ideal emergency fund\r\n",
    "emergency_fund = monthly_income * 3\r\n",
    "emergency_fund"
   ]
  },
  {
   "cell_type": "code",
   "execution_count": 138,
   "metadata": {},
   "outputs": [
    {
     "data": {
      "text/plain": "116721.228"
     },
     "execution_count": 138,
     "metadata": {},
     "output_type": "execute_result"
    }
   ],
   "source": [
    "# Calculate total amount of savings\r\n",
    "\r\n",
    "savings = total_crypto + total_stocks\r\n",
    "savings\r\n"
   ]
  },
  {
   "cell_type": "code",
   "execution_count": 139,
   "metadata": {},
   "outputs": [
    {
     "name": "stdout",
     "output_type": "stream",
     "text": [
      "emergency fund is covered by your savings\n"
     ]
    }
   ],
   "source": [
    "# Validate saving health\r\n",
    "\r\n",
    "if savings < emergency_fund:\r\n",
    "    print(f\"emergency fund does not meet the requirements, an additional {emergency_fund - savings}\")\r\n",
    "elif savings == emergency_fund:\r\n",
    "    print(\"you have reached your financial goal\")\r\n",
    "else:\r\n",
    "    print(\"emergency fund is covered by your savings\")"
   ]
  },
  {
   "cell_type": "markdown",
   "metadata": {},
   "source": [
    "## Part 2 - Retirement Planning\n",
    "\n",
    "### Monte Carlo Simulation"
   ]
  },
  {
   "cell_type": "code",
   "execution_count": 140,
   "metadata": {},
   "outputs": [],
   "source": [
    "# Set start and end dates of five years back from today.\n",
    "# Sample results may vary from the solution based on the time frame chosen\n",
    "start_date = pd.Timestamp('2016-05-01', tz='America/New_York').isoformat()\n",
    "end_date = pd.Timestamp('2021-05-01', tz='America/New_York').isoformat()"
   ]
  },
  {
   "cell_type": "code",
   "execution_count": 141,
   "metadata": {},
   "outputs": [
    {
     "data": {
      "text/html": "<div>\n<style scoped>\n    .dataframe tbody tr th:only-of-type {\n        vertical-align: middle;\n    }\n\n    .dataframe tbody tr th {\n        vertical-align: top;\n    }\n\n    .dataframe thead tr th {\n        text-align: left;\n    }\n\n    .dataframe thead tr:last-of-type th {\n        text-align: right;\n    }\n</style>\n<table border=\"1\" class=\"dataframe\">\n  <thead>\n    <tr>\n      <th></th>\n      <th colspan=\"5\" halign=\"left\">AGG</th>\n      <th colspan=\"5\" halign=\"left\">SPY</th>\n    </tr>\n    <tr>\n      <th></th>\n      <th>open</th>\n      <th>high</th>\n      <th>low</th>\n      <th>close</th>\n      <th>volume</th>\n      <th>open</th>\n      <th>high</th>\n      <th>low</th>\n      <th>close</th>\n      <th>volume</th>\n    </tr>\n    <tr>\n      <th>time</th>\n      <th></th>\n      <th></th>\n      <th></th>\n      <th></th>\n      <th></th>\n      <th></th>\n      <th></th>\n      <th></th>\n      <th></th>\n      <th></th>\n    </tr>\n  </thead>\n  <tbody>\n    <tr>\n      <th>2017-05-10 00:00:00-04:00</th>\n      <td>108.60</td>\n      <td>108.660</td>\n      <td>108.4400</td>\n      <td>108.520</td>\n      <td>1427511.0</td>\n      <td>NaN</td>\n      <td>NaN</td>\n      <td>NaN</td>\n      <td>NaN</td>\n      <td>NaN</td>\n    </tr>\n    <tr>\n      <th>2017-05-11 00:00:00-04:00</th>\n      <td>108.35</td>\n      <td>108.540</td>\n      <td>108.3435</td>\n      <td>108.515</td>\n      <td>1773499.0</td>\n      <td>239.35</td>\n      <td>239.57</td>\n      <td>238.13</td>\n      <td>239.410</td>\n      <td>45435690.0</td>\n    </tr>\n    <tr>\n      <th>2017-05-12 00:00:00-04:00</th>\n      <td>108.81</td>\n      <td>108.940</td>\n      <td>108.7800</td>\n      <td>108.920</td>\n      <td>1136553.0</td>\n      <td>239.09</td>\n      <td>239.21</td>\n      <td>238.67</td>\n      <td>239.030</td>\n      <td>35283567.0</td>\n    </tr>\n    <tr>\n      <th>2017-05-15 00:00:00-04:00</th>\n      <td>108.85</td>\n      <td>108.940</td>\n      <td>108.8200</td>\n      <td>108.890</td>\n      <td>1620264.0</td>\n      <td>239.47</td>\n      <td>240.44</td>\n      <td>239.45</td>\n      <td>240.245</td>\n      <td>42230620.0</td>\n    </tr>\n    <tr>\n      <th>2017-05-16 00:00:00-04:00</th>\n      <td>108.88</td>\n      <td>109.101</td>\n      <td>108.8800</td>\n      <td>109.000</td>\n      <td>1394153.0</td>\n      <td>240.62</td>\n      <td>240.67</td>\n      <td>239.63</td>\n      <td>240.100</td>\n      <td>37206183.0</td>\n    </tr>\n  </tbody>\n</table>\n</div>",
      "text/plain": "                              AGG                                         \\\n                             open     high       low    close     volume   \ntime                                                                       \n2017-05-10 00:00:00-04:00  108.60  108.660  108.4400  108.520  1427511.0   \n2017-05-11 00:00:00-04:00  108.35  108.540  108.3435  108.515  1773499.0   \n2017-05-12 00:00:00-04:00  108.81  108.940  108.7800  108.920  1136553.0   \n2017-05-15 00:00:00-04:00  108.85  108.940  108.8200  108.890  1620264.0   \n2017-05-16 00:00:00-04:00  108.88  109.101  108.8800  109.000  1394153.0   \n\n                              SPY                                       \n                             open    high     low    close      volume  \ntime                                                                    \n2017-05-10 00:00:00-04:00     NaN     NaN     NaN      NaN         NaN  \n2017-05-11 00:00:00-04:00  239.35  239.57  238.13  239.410  45435690.0  \n2017-05-12 00:00:00-04:00  239.09  239.21  238.67  239.030  35283567.0  \n2017-05-15 00:00:00-04:00  239.47  240.44  239.45  240.245  42230620.0  \n2017-05-16 00:00:00-04:00  240.62  240.67  239.63  240.100  37206183.0  "
     },
     "execution_count": 141,
     "metadata": {},
     "output_type": "execute_result"
    }
   ],
   "source": [
    "# Get 5 years' worth of historical data for SPY and AGG\r\n",
    "\r\n",
    "df_stock_data = api.get_barset(\r\n",
    "    tickers,\r\n",
    "    timeframe,\r\n",
    "    limit= 1000,\r\n",
    "    start= start_date,\r\n",
    "    end = end_date).df\r\n",
    "\r\n",
    "# Display sample data\r\n",
    "df_stock_data.head()"
   ]
  },
  {
   "cell_type": "code",
   "execution_count": 142,
   "metadata": {},
   "outputs": [],
   "source": [
    "# Configuring a Monte Carlo simulation to forecast 30 years cumulative returns\r\n",
    "# use limit=1000 to call the most recent 1000 days of data\r\n",
    "\r\n",
    "MC_thirtyyear = MCSimulation(\r\n",
    "    portfolio_data = df_stock_data,\r\n",
    "    weights = [.60,.40],\r\n",
    "    num_simulation = 500,\r\n",
    "    num_trading_days = 252*30\r\n",
    ")"
   ]
  },
  {
   "cell_type": "code",
   "execution_count": 143,
   "metadata": {},
   "outputs": [
    {
     "data": {
      "text/html": "<div>\n<style scoped>\n    .dataframe tbody tr th:only-of-type {\n        vertical-align: middle;\n    }\n\n    .dataframe tbody tr th {\n        vertical-align: top;\n    }\n\n    .dataframe thead tr th {\n        text-align: left;\n    }\n\n    .dataframe thead tr:last-of-type th {\n        text-align: right;\n    }\n</style>\n<table border=\"1\" class=\"dataframe\">\n  <thead>\n    <tr>\n      <th></th>\n      <th colspan=\"6\" halign=\"left\">AGG</th>\n      <th colspan=\"6\" halign=\"left\">SPY</th>\n    </tr>\n    <tr>\n      <th></th>\n      <th>open</th>\n      <th>high</th>\n      <th>low</th>\n      <th>close</th>\n      <th>volume</th>\n      <th>daily_return</th>\n      <th>open</th>\n      <th>high</th>\n      <th>low</th>\n      <th>close</th>\n      <th>volume</th>\n      <th>daily_return</th>\n    </tr>\n    <tr>\n      <th>time</th>\n      <th></th>\n      <th></th>\n      <th></th>\n      <th></th>\n      <th></th>\n      <th></th>\n      <th></th>\n      <th></th>\n      <th></th>\n      <th></th>\n      <th></th>\n      <th></th>\n    </tr>\n  </thead>\n  <tbody>\n    <tr>\n      <th>2017-05-10 00:00:00-04:00</th>\n      <td>108.60</td>\n      <td>108.660</td>\n      <td>108.4400</td>\n      <td>108.520</td>\n      <td>1427511.0</td>\n      <td>NaN</td>\n      <td>NaN</td>\n      <td>NaN</td>\n      <td>NaN</td>\n      <td>NaN</td>\n      <td>NaN</td>\n      <td>NaN</td>\n    </tr>\n    <tr>\n      <th>2017-05-11 00:00:00-04:00</th>\n      <td>108.35</td>\n      <td>108.540</td>\n      <td>108.3435</td>\n      <td>108.515</td>\n      <td>1773499.0</td>\n      <td>-0.000046</td>\n      <td>239.35</td>\n      <td>239.57</td>\n      <td>238.13</td>\n      <td>239.410</td>\n      <td>45435690.0</td>\n      <td>NaN</td>\n    </tr>\n    <tr>\n      <th>2017-05-12 00:00:00-04:00</th>\n      <td>108.81</td>\n      <td>108.940</td>\n      <td>108.7800</td>\n      <td>108.920</td>\n      <td>1136553.0</td>\n      <td>0.003732</td>\n      <td>239.09</td>\n      <td>239.21</td>\n      <td>238.67</td>\n      <td>239.030</td>\n      <td>35283567.0</td>\n      <td>-0.001587</td>\n    </tr>\n    <tr>\n      <th>2017-05-15 00:00:00-04:00</th>\n      <td>108.85</td>\n      <td>108.940</td>\n      <td>108.8200</td>\n      <td>108.890</td>\n      <td>1620264.0</td>\n      <td>-0.000275</td>\n      <td>239.47</td>\n      <td>240.44</td>\n      <td>239.45</td>\n      <td>240.245</td>\n      <td>42230620.0</td>\n      <td>0.005083</td>\n    </tr>\n    <tr>\n      <th>2017-05-16 00:00:00-04:00</th>\n      <td>108.88</td>\n      <td>109.101</td>\n      <td>108.8800</td>\n      <td>109.000</td>\n      <td>1394153.0</td>\n      <td>0.001010</td>\n      <td>240.62</td>\n      <td>240.67</td>\n      <td>239.63</td>\n      <td>240.100</td>\n      <td>37206183.0</td>\n      <td>-0.000604</td>\n    </tr>\n  </tbody>\n</table>\n</div>",
      "text/plain": "                              AGG                                         \\\n                             open     high       low    close     volume   \ntime                                                                       \n2017-05-10 00:00:00-04:00  108.60  108.660  108.4400  108.520  1427511.0   \n2017-05-11 00:00:00-04:00  108.35  108.540  108.3435  108.515  1773499.0   \n2017-05-12 00:00:00-04:00  108.81  108.940  108.7800  108.920  1136553.0   \n2017-05-15 00:00:00-04:00  108.85  108.940  108.8200  108.890  1620264.0   \n2017-05-16 00:00:00-04:00  108.88  109.101  108.8800  109.000  1394153.0   \n\n                                           SPY                           \\\n                          daily_return    open    high     low    close   \ntime                                                                      \n2017-05-10 00:00:00-04:00          NaN     NaN     NaN     NaN      NaN   \n2017-05-11 00:00:00-04:00    -0.000046  239.35  239.57  238.13  239.410   \n2017-05-12 00:00:00-04:00     0.003732  239.09  239.21  238.67  239.030   \n2017-05-15 00:00:00-04:00    -0.000275  239.47  240.44  239.45  240.245   \n2017-05-16 00:00:00-04:00     0.001010  240.62  240.67  239.63  240.100   \n\n                                                    \n                               volume daily_return  \ntime                                                \n2017-05-10 00:00:00-04:00         NaN          NaN  \n2017-05-11 00:00:00-04:00  45435690.0          NaN  \n2017-05-12 00:00:00-04:00  35283567.0    -0.001587  \n2017-05-15 00:00:00-04:00  42230620.0     0.005083  \n2017-05-16 00:00:00-04:00  37206183.0    -0.000604  "
     },
     "execution_count": 143,
     "metadata": {},
     "output_type": "execute_result"
    }
   ],
   "source": [
    "# Printing the simulation input data\r\n",
    "\r\n",
    "MC_thirtyyear.portfolio_data.head()"
   ]
  },
  {
   "cell_type": "code",
   "execution_count": 144,
   "metadata": {},
   "outputs": [
    {
     "name": "stdout",
     "output_type": "stream",
     "text": [
      "Running Monte Carlo simulation number 0.\n",
      "Running Monte Carlo simulation number 10.\n",
      "Running Monte Carlo simulation number 20.\n",
      "Running Monte Carlo simulation number 30.\n",
      "Running Monte Carlo simulation number 40.\n",
      "Running Monte Carlo simulation number 50.\n",
      "Running Monte Carlo simulation number 60.\n",
      "Running Monte Carlo simulation number 70.\n",
      "Running Monte Carlo simulation number 80.\n",
      "Running Monte Carlo simulation number 90.\n",
      "Running Monte Carlo simulation number 100.\n",
      "Running Monte Carlo simulation number 110.\n",
      "Running Monte Carlo simulation number 120.\n",
      "Running Monte Carlo simulation number 130.\n",
      "Running Monte Carlo simulation number 140.\n",
      "Running Monte Carlo simulation number 150.\n",
      "Running Monte Carlo simulation number 160.\n",
      "Running Monte Carlo simulation number 170.\n",
      "Running Monte Carlo simulation number 180.\n",
      "Running Monte Carlo simulation number 190.\n",
      "Running Monte Carlo simulation number 200.\n",
      "Running Monte Carlo simulation number 210.\n",
      "Running Monte Carlo simulation number 220.\n",
      "Running Monte Carlo simulation number 230.\n",
      "Running Monte Carlo simulation number 240.\n",
      "Running Monte Carlo simulation number 250.\n",
      "Running Monte Carlo simulation number 260.\n",
      "Running Monte Carlo simulation number 270.\n",
      "Running Monte Carlo simulation number 280.\n",
      "Running Monte Carlo simulation number 290.\n",
      "Running Monte Carlo simulation number 300.\n",
      "Running Monte Carlo simulation number 310.\n",
      "Running Monte Carlo simulation number 320.\n",
      "Running Monte Carlo simulation number 330.\n",
      "Running Monte Carlo simulation number 340.\n",
      "Running Monte Carlo simulation number 350.\n",
      "Running Monte Carlo simulation number 360.\n",
      "Running Monte Carlo simulation number 370.\n",
      "Running Monte Carlo simulation number 380.\n",
      "Running Monte Carlo simulation number 390.\n",
      "Running Monte Carlo simulation number 400.\n",
      "Running Monte Carlo simulation number 410.\n",
      "Running Monte Carlo simulation number 420.\n",
      "Running Monte Carlo simulation number 430.\n",
      "Running Monte Carlo simulation number 440.\n",
      "Running Monte Carlo simulation number 450.\n",
      "Running Monte Carlo simulation number 460.\n",
      "Running Monte Carlo simulation number 470.\n",
      "Running Monte Carlo simulation number 480.\n",
      "Running Monte Carlo simulation number 490.\n"
     ]
    },
    {
     "data": {
      "text/html": "<div>\n<style scoped>\n    .dataframe tbody tr th:only-of-type {\n        vertical-align: middle;\n    }\n\n    .dataframe tbody tr th {\n        vertical-align: top;\n    }\n\n    .dataframe thead th {\n        text-align: right;\n    }\n</style>\n<table border=\"1\" class=\"dataframe\">\n  <thead>\n    <tr style=\"text-align: right;\">\n      <th></th>\n      <th>0</th>\n      <th>1</th>\n      <th>2</th>\n      <th>3</th>\n      <th>4</th>\n      <th>5</th>\n      <th>6</th>\n      <th>7</th>\n      <th>8</th>\n      <th>9</th>\n      <th>...</th>\n      <th>490</th>\n      <th>491</th>\n      <th>492</th>\n      <th>493</th>\n      <th>494</th>\n      <th>495</th>\n      <th>496</th>\n      <th>497</th>\n      <th>498</th>\n      <th>499</th>\n    </tr>\n  </thead>\n  <tbody>\n    <tr>\n      <th>0</th>\n      <td>1.000000</td>\n      <td>1.000000</td>\n      <td>1.000000</td>\n      <td>1.000000</td>\n      <td>1.000000</td>\n      <td>1.000000</td>\n      <td>1.000000</td>\n      <td>1.000000</td>\n      <td>1.000000</td>\n      <td>1.000000</td>\n      <td>...</td>\n      <td>1.000000</td>\n      <td>1.000000</td>\n      <td>1.000000</td>\n      <td>1.000000</td>\n      <td>1.000000</td>\n      <td>1.000000</td>\n      <td>1.000000</td>\n      <td>1.000000</td>\n      <td>1.000000</td>\n      <td>1.000000</td>\n    </tr>\n    <tr>\n      <th>1</th>\n      <td>1.003293</td>\n      <td>1.010626</td>\n      <td>1.008363</td>\n      <td>0.989467</td>\n      <td>0.997996</td>\n      <td>1.006221</td>\n      <td>1.002744</td>\n      <td>1.002160</td>\n      <td>0.995338</td>\n      <td>1.007097</td>\n      <td>...</td>\n      <td>1.006097</td>\n      <td>1.004395</td>\n      <td>1.000701</td>\n      <td>0.995185</td>\n      <td>0.998026</td>\n      <td>0.993734</td>\n      <td>1.000060</td>\n      <td>1.003140</td>\n      <td>0.998502</td>\n      <td>1.006846</td>\n    </tr>\n    <tr>\n      <th>2</th>\n      <td>0.996378</td>\n      <td>1.012665</td>\n      <td>1.013513</td>\n      <td>0.996734</td>\n      <td>1.002808</td>\n      <td>1.008069</td>\n      <td>1.003324</td>\n      <td>1.012484</td>\n      <td>0.989826</td>\n      <td>1.007945</td>\n      <td>...</td>\n      <td>1.002328</td>\n      <td>0.993973</td>\n      <td>1.000421</td>\n      <td>0.988484</td>\n      <td>0.989339</td>\n      <td>0.992133</td>\n      <td>0.991837</td>\n      <td>1.004410</td>\n      <td>0.995167</td>\n      <td>1.009582</td>\n    </tr>\n    <tr>\n      <th>3</th>\n      <td>1.000834</td>\n      <td>1.011851</td>\n      <td>1.008514</td>\n      <td>0.988864</td>\n      <td>1.001914</td>\n      <td>1.009521</td>\n      <td>1.010934</td>\n      <td>1.014568</td>\n      <td>0.981762</td>\n      <td>1.002933</td>\n      <td>...</td>\n      <td>1.004460</td>\n      <td>0.993059</td>\n      <td>0.999298</td>\n      <td>0.984491</td>\n      <td>0.985682</td>\n      <td>0.987784</td>\n      <td>0.999644</td>\n      <td>1.002377</td>\n      <td>0.995724</td>\n      <td>1.005413</td>\n    </tr>\n    <tr>\n      <th>4</th>\n      <td>0.993409</td>\n      <td>1.015822</td>\n      <td>1.008838</td>\n      <td>0.990689</td>\n      <td>1.006738</td>\n      <td>1.011641</td>\n      <td>1.006215</td>\n      <td>1.015492</td>\n      <td>0.988124</td>\n      <td>1.007313</td>\n      <td>...</td>\n      <td>1.006656</td>\n      <td>0.991274</td>\n      <td>0.993106</td>\n      <td>0.982717</td>\n      <td>0.986805</td>\n      <td>0.993682</td>\n      <td>1.007198</td>\n      <td>0.999378</td>\n      <td>0.990303</td>\n      <td>1.010987</td>\n    </tr>\n    <tr>\n      <th>...</th>\n      <td>...</td>\n      <td>...</td>\n      <td>...</td>\n      <td>...</td>\n      <td>...</td>\n      <td>...</td>\n      <td>...</td>\n      <td>...</td>\n      <td>...</td>\n      <td>...</td>\n      <td>...</td>\n      <td>...</td>\n      <td>...</td>\n      <td>...</td>\n      <td>...</td>\n      <td>...</td>\n      <td>...</td>\n      <td>...</td>\n      <td>...</td>\n      <td>...</td>\n      <td>...</td>\n    </tr>\n    <tr>\n      <th>7556</th>\n      <td>6.390118</td>\n      <td>7.572624</td>\n      <td>9.918476</td>\n      <td>15.067231</td>\n      <td>9.834666</td>\n      <td>9.257014</td>\n      <td>7.861390</td>\n      <td>7.338006</td>\n      <td>4.400900</td>\n      <td>21.154893</td>\n      <td>...</td>\n      <td>9.506199</td>\n      <td>6.648670</td>\n      <td>6.587926</td>\n      <td>8.356681</td>\n      <td>9.477481</td>\n      <td>11.202609</td>\n      <td>14.994236</td>\n      <td>9.593022</td>\n      <td>3.446833</td>\n      <td>8.817565</td>\n    </tr>\n    <tr>\n      <th>7557</th>\n      <td>6.424892</td>\n      <td>7.549289</td>\n      <td>9.902818</td>\n      <td>15.070242</td>\n      <td>9.908112</td>\n      <td>9.308808</td>\n      <td>7.875343</td>\n      <td>7.346511</td>\n      <td>4.414269</td>\n      <td>21.108738</td>\n      <td>...</td>\n      <td>9.466393</td>\n      <td>6.524624</td>\n      <td>6.605451</td>\n      <td>8.383283</td>\n      <td>9.440821</td>\n      <td>11.288937</td>\n      <td>14.999399</td>\n      <td>9.663858</td>\n      <td>3.483366</td>\n      <td>8.783014</td>\n    </tr>\n    <tr>\n      <th>7558</th>\n      <td>6.342018</td>\n      <td>7.574530</td>\n      <td>9.837702</td>\n      <td>15.097038</td>\n      <td>9.940792</td>\n      <td>9.324578</td>\n      <td>7.840651</td>\n      <td>7.323350</td>\n      <td>4.403332</td>\n      <td>21.288598</td>\n      <td>...</td>\n      <td>9.452836</td>\n      <td>6.559130</td>\n      <td>6.561881</td>\n      <td>8.384118</td>\n      <td>9.471036</td>\n      <td>11.361986</td>\n      <td>14.931128</td>\n      <td>9.647187</td>\n      <td>3.431147</td>\n      <td>8.788294</td>\n    </tr>\n    <tr>\n      <th>7559</th>\n      <td>6.296415</td>\n      <td>7.579517</td>\n      <td>9.859523</td>\n      <td>15.153259</td>\n      <td>9.972104</td>\n      <td>9.282826</td>\n      <td>7.883778</td>\n      <td>7.332093</td>\n      <td>4.435078</td>\n      <td>21.539109</td>\n      <td>...</td>\n      <td>9.474335</td>\n      <td>6.528768</td>\n      <td>6.557408</td>\n      <td>8.371255</td>\n      <td>9.452911</td>\n      <td>11.388302</td>\n      <td>14.746848</td>\n      <td>9.706057</td>\n      <td>3.436955</td>\n      <td>8.896970</td>\n    </tr>\n    <tr>\n      <th>7560</th>\n      <td>6.283005</td>\n      <td>7.590858</td>\n      <td>9.846372</td>\n      <td>15.167094</td>\n      <td>9.907756</td>\n      <td>9.182885</td>\n      <td>7.979761</td>\n      <td>7.403227</td>\n      <td>4.388590</td>\n      <td>21.710899</td>\n      <td>...</td>\n      <td>9.396126</td>\n      <td>6.561950</td>\n      <td>6.483099</td>\n      <td>8.453378</td>\n      <td>9.606740</td>\n      <td>11.297814</td>\n      <td>14.891380</td>\n      <td>9.671931</td>\n      <td>3.425285</td>\n      <td>8.985618</td>\n    </tr>\n  </tbody>\n</table>\n<p>7561 rows × 500 columns</p>\n</div>",
      "text/plain": "           0         1         2          3         4         5         6    \\\n0     1.000000  1.000000  1.000000   1.000000  1.000000  1.000000  1.000000   \n1     1.003293  1.010626  1.008363   0.989467  0.997996  1.006221  1.002744   \n2     0.996378  1.012665  1.013513   0.996734  1.002808  1.008069  1.003324   \n3     1.000834  1.011851  1.008514   0.988864  1.001914  1.009521  1.010934   \n4     0.993409  1.015822  1.008838   0.990689  1.006738  1.011641  1.006215   \n...        ...       ...       ...        ...       ...       ...       ...   \n7556  6.390118  7.572624  9.918476  15.067231  9.834666  9.257014  7.861390   \n7557  6.424892  7.549289  9.902818  15.070242  9.908112  9.308808  7.875343   \n7558  6.342018  7.574530  9.837702  15.097038  9.940792  9.324578  7.840651   \n7559  6.296415  7.579517  9.859523  15.153259  9.972104  9.282826  7.883778   \n7560  6.283005  7.590858  9.846372  15.167094  9.907756  9.182885  7.979761   \n\n           7         8          9    ...       490       491       492  \\\n0     1.000000  1.000000   1.000000  ...  1.000000  1.000000  1.000000   \n1     1.002160  0.995338   1.007097  ...  1.006097  1.004395  1.000701   \n2     1.012484  0.989826   1.007945  ...  1.002328  0.993973  1.000421   \n3     1.014568  0.981762   1.002933  ...  1.004460  0.993059  0.999298   \n4     1.015492  0.988124   1.007313  ...  1.006656  0.991274  0.993106   \n...        ...       ...        ...  ...       ...       ...       ...   \n7556  7.338006  4.400900  21.154893  ...  9.506199  6.648670  6.587926   \n7557  7.346511  4.414269  21.108738  ...  9.466393  6.524624  6.605451   \n7558  7.323350  4.403332  21.288598  ...  9.452836  6.559130  6.561881   \n7559  7.332093  4.435078  21.539109  ...  9.474335  6.528768  6.557408   \n7560  7.403227  4.388590  21.710899  ...  9.396126  6.561950  6.483099   \n\n           493       494        495        496       497       498       499  \n0     1.000000  1.000000   1.000000   1.000000  1.000000  1.000000  1.000000  \n1     0.995185  0.998026   0.993734   1.000060  1.003140  0.998502  1.006846  \n2     0.988484  0.989339   0.992133   0.991837  1.004410  0.995167  1.009582  \n3     0.984491  0.985682   0.987784   0.999644  1.002377  0.995724  1.005413  \n4     0.982717  0.986805   0.993682   1.007198  0.999378  0.990303  1.010987  \n...        ...       ...        ...        ...       ...       ...       ...  \n7556  8.356681  9.477481  11.202609  14.994236  9.593022  3.446833  8.817565  \n7557  8.383283  9.440821  11.288937  14.999399  9.663858  3.483366  8.783014  \n7558  8.384118  9.471036  11.361986  14.931128  9.647187  3.431147  8.788294  \n7559  8.371255  9.452911  11.388302  14.746848  9.706057  3.436955  8.896970  \n7560  8.453378  9.606740  11.297814  14.891380  9.671931  3.425285  8.985618  \n\n[7561 rows x 500 columns]"
     },
     "execution_count": 144,
     "metadata": {},
     "output_type": "execute_result"
    }
   ],
   "source": [
    "# Running a Monte Carlo simulation to forecast 30 years cumulative returns\r\n",
    "MC_thirtyyear.calc_cumulative_return()"
   ]
  },
  {
   "cell_type": "code",
   "execution_count": 148,
   "metadata": {},
   "outputs": [
    {
     "data": {
      "image/png": "[encoded data removed]",
      "text/plain": "<Figure size 432x288 with 1 Axes>"
     },
     "metadata": {
      "needs_background": "light"
     },
     "output_type": "display_data"
    }
   ],
   "source": [
    "# Plot simulation outcomes\r\n",
    "line_plot = MC_thirtyyear.plot_simulation()\r\n",
    "\r\n"
   ]
  },
  {
   "cell_type": "code",
   "execution_count": 146,
   "metadata": {},
   "outputs": [
    {
     "data": {
      "image/png": "[encoded data removed]",
      "text/plain": "<Figure size 432x288 with 1 Axes>"
     },
     "metadata": {
      "needs_background": "light"
     },
     "output_type": "display_data"
    }
   ],
   "source": [
    "# Plot probability distribution and confidence intervals\r\n",
    "dist_plot = MC_thirtyyear.plot_distribution()"
   ]
  },
  {
   "cell_type": "markdown",
   "metadata": {},
   "source": [
    "### Retirement Analysis"
   ]
  },
  {
   "cell_type": "code",
   "execution_count": 149,
   "metadata": {},
   "outputs": [
    {
     "name": "stdout",
     "output_type": "stream",
     "text": [
      "count           500.000000\n",
      "mean              9.219555\n",
      "std               4.917052\n",
      "min               2.139033\n",
      "25%               6.069616\n",
      "50%               8.010646\n",
      "75%              11.260421\n",
      "max              45.093335\n",
      "95% CI Lower      3.282840\n",
      "95% CI Upper     21.402375\n",
      "Name: 7560, dtype: float64\n"
     ]
    }
   ],
   "source": [
    "# Fetch summary statistics from the Monte Carlo simulation results\r\n",
    "\r\n",
    "tbl = MC_thirtyyear.summarize_cumulative_return()\r\n",
    "\r\n",
    "# Print summary statistics\r\n",
    "print(tbl)"
   ]
  },
  {
   "cell_type": "markdown",
   "metadata": {},
   "source": [
    "### Calculate the expected portfolio return at the `95%` lower and upper confidence intervals based on a `$20,000` initial investment."
   ]
  },
  {
   "cell_type": "code",
   "execution_count": 150,
   "metadata": {},
   "outputs": [
    {
     "name": "stdout",
     "output_type": "stream",
     "text": [
      "There is a 95% chance that an initial investment of $20000 in the portfolio over the next 30 years will end within in the range of $65656.81 and $428047.51\n"
     ]
    }
   ],
   "source": [
    "# Set initial investment\r\n",
    "initial_investment = 20000\r\n",
    "\r\n",
    "# Use the lower and upper `95%` confidence intervals to calculate the range of the possible outcomes of our $20,000\r\n",
    "\r\n",
    "ci_lower = round(tbl[8]*20000,2)\r\n",
    "ci_upper = round(tbl[9]*20000,2)\r\n",
    "\r\n",
    "# Print results\r\n",
    "print(f\"There is a 95% chance that an initial investment of ${initial_investment} in the portfolio\"\r\n",
    "      f\" over the next 30 years will end within in the range of\"\r\n",
    "      f\" ${ci_lower} and ${ci_upper}\")"
   ]
  },
  {
   "cell_type": "markdown",
   "metadata": {},
   "source": [
    "### Calculate the expected portfolio return at the `95%` lower and upper confidence intervals based on a `50%` increase in the initial investment."
   ]
  },
  {
   "cell_type": "code",
   "execution_count": 151,
   "metadata": {},
   "outputs": [
    {
     "name": "stdout",
     "output_type": "stream",
     "text": [
      "There is a 95% chance that an initial investment of $30000.0 in the portfolio over the next 30 years will end within in the range of $98485.21 and $642071.26\n"
     ]
    }
   ],
   "source": [
    "# Set initial investment\r\n",
    "initial_investment = 20000 * 1.5\r\n",
    "\r\n",
    "# Use the lower and upper `95%` confidence intervals to calculate the range of the possible outcomes of our $30,000\r\n",
    "ci_lower = round(tbl[8]*30000,2)\r\n",
    "ci_upper = round(tbl[9]*30000,2)\r\n",
    "\r\n",
    "# Print results\r\n",
    "print(f\"There is a 95% chance that an initial investment of ${initial_investment} in the portfolio\"\r\n",
    "      f\" over the next 30 years will end within in the range of\"\r\n",
    "      f\" ${ci_lower} and ${ci_upper}\")"
   ]
  }
 ],
 "metadata": {
  "kernelspec": {
   "display_name": "Python 3.8.5 64-bit ('alpaca': conda)",
   "name": "python385jvsc74a57bd0439e18a33c4f9c4c1fa8150b763e40a14324e1878ed012ed9f0b4a09dd4fb718"
  },
  "language_info": {
   "name": "python",
   "version": ""
  },
  "nteract": {
   "version": "0.28.0"
  }
 },
 "nbformat": 4,
 "nbformat_minor": 4
}